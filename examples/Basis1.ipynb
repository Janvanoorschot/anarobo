{
 "cells": [
  {
   "cell_type": "markdown",
   "metadata": {},
   "source": [
    "# Robomind Academy\n",
    "\n",
    "Robomind Academy was created to teach (young) persons Computational Thinking. But hand-in-hand with\n",
    "with this primary goal we as teachers can find out *how* these persons learn Computational Thinking. This will allow us to to improve our teaching methods and research the field coding education.\n",
    "\n",
    "Robomind Academy collects data about the activity of its users and stores this data for a short period of time. This data is used in the normal operation of the site but an anonymized version of this data is stored for later analysis and research.The anonymized data is stored for a longer period of time and includes things like the number of runs per person per Challenge and when they were run, the Solution in each run used and the performance of the final Solutions. "
   ]
  },
  {
   "cell_type": "markdown",
   "metadata": {},
   "source": [
    "## The Data\n",
    "\n",
    "The core anonymized data is in a compressed JSON format and contains details about the timing, scripts and results of the activities of the persons in the Robomind Academy. The drawback of this detailed, compressed format is that it makes analyzing the data problematic. Therefore the Robomind Academy data was aggregated in a CSV format that just describes the cumulative time a person works on a storyline item and the number of time he or she runs a program before solving the Challenge in the storyline item.\n",
    "\n",
    "We will use the data from about 5000 students using the Basis1 course in Robomind Academy. This is an introductory course in Computational Thinking. The aggregated data was created by the 'sitting2csv.py' script in this repository. The following logic reads the data and displays the first five rows."
   ]
  },
  {
   "cell_type": "code",
   "execution_count": 5,
   "metadata": {
    "pycharm": {
     "is_executing": false
    }
   },
   "outputs": [
    {
     "data": {
      "text/plain": "                   storyline        person  cumtime  count\n0  Basis_1/Getting started/1  IPupil000126     74.0      1\n1  Basis_1/Getting started/1  IPupil000127    183.0      1\n2  Basis_1/Getting started/1  IPupil000128    124.0      1\n3  Basis_1/Getting started/1  IPupil000129    147.0      3\n4  Basis_1/Getting started/1  IPupil000130     56.0      3",
      "text/html": "<div>\n<style scoped>\n    .dataframe tbody tr th:only-of-type {\n        vertical-align: middle;\n    }\n\n    .dataframe tbody tr th {\n        vertical-align: top;\n    }\n\n    .dataframe thead th {\n        text-align: right;\n    }\n</style>\n<table border=\"1\" class=\"dataframe\">\n  <thead>\n    <tr style=\"text-align: right;\">\n      <th></th>\n      <th>storyline</th>\n      <th>person</th>\n      <th>cumtime</th>\n      <th>count</th>\n    </tr>\n  </thead>\n  <tbody>\n    <tr>\n      <th>0</th>\n      <td>Basis_1/Getting started/1</td>\n      <td>IPupil000126</td>\n      <td>74.0</td>\n      <td>1</td>\n    </tr>\n    <tr>\n      <th>1</th>\n      <td>Basis_1/Getting started/1</td>\n      <td>IPupil000127</td>\n      <td>183.0</td>\n      <td>1</td>\n    </tr>\n    <tr>\n      <th>2</th>\n      <td>Basis_1/Getting started/1</td>\n      <td>IPupil000128</td>\n      <td>124.0</td>\n      <td>1</td>\n    </tr>\n    <tr>\n      <th>3</th>\n      <td>Basis_1/Getting started/1</td>\n      <td>IPupil000129</td>\n      <td>147.0</td>\n      <td>3</td>\n    </tr>\n    <tr>\n      <th>4</th>\n      <td>Basis_1/Getting started/1</td>\n      <td>IPupil000130</td>\n      <td>56.0</td>\n      <td>3</td>\n    </tr>\n  </tbody>\n</table>\n</div>"
     },
     "metadata": {},
     "output_type": "execute_result",
     "execution_count": 5
    }
   ],
   "source": [
    "import numpy as np\n",
    "import pandas as pd\n",
    "import matplotlib.pyplot as plt\n",
    "\n",
    "dataset = pd.read_csv(\"data/perf_basis1.gz\")\n",
    "\n",
    "dataset.head()"
   ]
  },
  {
   "cell_type": "markdown",
   "metadata": {},
   "source": [
    "As the first five line show the aggregated data contains the name/id of the storyline, the anonymized name/id of the person, the total time the person took before coming up with the solution (cumtime) and the number of runs (count) it took."
   ]
  },
  {
   "cell_type": "markdown",
   "metadata": {},
   "source": [
    "## Grading Pupils\n",
    "\n",
    "In this notebook a grading system for pupils is developed using the aggregated data. \n",
    "As a first step we calculate the averages of 'cumtime' and 'count' for each storyline-item."
   ]
  },
  {
   "cell_type": "code",
   "execution_count": 6,
   "metadata": {
    "scrolled": true,
    "pycharm": {
     "is_executing": false
    }
   },
   "outputs": [
    {
     "data": {
      "text/plain": "                    cumtime                                                    \\\n                      count        mean         std  min    25%    50%    75%   \nstoryline                                                                       \nBasis_1/Factories/1  8674.0  467.708093  486.102022  0.0  197.0  314.0  545.0   \nBasis_1/Factories/2  8592.0   61.758147  160.275859  1.0   18.0   28.0   48.0   \nBasis_1/Factories/3  8456.0  205.296003  265.124278  0.0   80.0  130.0  224.0   \nBasis_1/Factories/4  8337.0  117.962696  271.250152  0.0   24.0   38.0   72.0   \nBasis_1/Factories/5  6494.0  417.477518  515.118824  0.0  140.0  256.0  499.0   \n\n                               count                                       \\\n                         max   count       mean        std  min  25%  50%   \nstoryline                                                                   \nBasis_1/Factories/1   7438.0  8674.0   7.994236   8.849118  1.0  2.0  5.0   \nBasis_1/Factories/2   4255.0  8592.0   1.599162   3.244714  1.0  1.0  1.0   \nBasis_1/Factories/3   4473.0  8456.0   5.106197   6.163269  1.0  1.0  3.0   \nBasis_1/Factories/4   5314.0  8337.0   3.111431   6.829950  1.0  1.0  1.0   \nBasis_1/Factories/5  10877.0  6494.0  10.550354  11.892266  1.0  3.0  7.0   \n\n                                  \n                      75%    max  \nstoryline                         \nBasis_1/Factories/1  10.0  151.0  \nBasis_1/Factories/2   1.0  110.0  \nBasis_1/Factories/3   6.0   84.0  \nBasis_1/Factories/4   2.0  138.0  \nBasis_1/Factories/5  14.0  158.0  ",
      "text/html": "<div>\n<style scoped>\n    .dataframe tbody tr th:only-of-type {\n        vertical-align: middle;\n    }\n\n    .dataframe tbody tr th {\n        vertical-align: top;\n    }\n\n    .dataframe thead tr th {\n        text-align: left;\n    }\n\n    .dataframe thead tr:last-of-type th {\n        text-align: right;\n    }\n</style>\n<table border=\"1\" class=\"dataframe\">\n  <thead>\n    <tr>\n      <th></th>\n      <th colspan=\"8\" halign=\"left\">cumtime</th>\n      <th colspan=\"8\" halign=\"left\">count</th>\n    </tr>\n    <tr>\n      <th></th>\n      <th>count</th>\n      <th>mean</th>\n      <th>std</th>\n      <th>min</th>\n      <th>25%</th>\n      <th>50%</th>\n      <th>75%</th>\n      <th>max</th>\n      <th>count</th>\n      <th>mean</th>\n      <th>std</th>\n      <th>min</th>\n      <th>25%</th>\n      <th>50%</th>\n      <th>75%</th>\n      <th>max</th>\n    </tr>\n    <tr>\n      <th>storyline</th>\n      <th></th>\n      <th></th>\n      <th></th>\n      <th></th>\n      <th></th>\n      <th></th>\n      <th></th>\n      <th></th>\n      <th></th>\n      <th></th>\n      <th></th>\n      <th></th>\n      <th></th>\n      <th></th>\n      <th></th>\n      <th></th>\n    </tr>\n  </thead>\n  <tbody>\n    <tr>\n      <th>Basis_1/Factories/1</th>\n      <td>8674.0</td>\n      <td>467.708093</td>\n      <td>486.102022</td>\n      <td>0.0</td>\n      <td>197.0</td>\n      <td>314.0</td>\n      <td>545.0</td>\n      <td>7438.0</td>\n      <td>8674.0</td>\n      <td>7.994236</td>\n      <td>8.849118</td>\n      <td>1.0</td>\n      <td>2.0</td>\n      <td>5.0</td>\n      <td>10.0</td>\n      <td>151.0</td>\n    </tr>\n    <tr>\n      <th>Basis_1/Factories/2</th>\n      <td>8592.0</td>\n      <td>61.758147</td>\n      <td>160.275859</td>\n      <td>1.0</td>\n      <td>18.0</td>\n      <td>28.0</td>\n      <td>48.0</td>\n      <td>4255.0</td>\n      <td>8592.0</td>\n      <td>1.599162</td>\n      <td>3.244714</td>\n      <td>1.0</td>\n      <td>1.0</td>\n      <td>1.0</td>\n      <td>1.0</td>\n      <td>110.0</td>\n    </tr>\n    <tr>\n      <th>Basis_1/Factories/3</th>\n      <td>8456.0</td>\n      <td>205.296003</td>\n      <td>265.124278</td>\n      <td>0.0</td>\n      <td>80.0</td>\n      <td>130.0</td>\n      <td>224.0</td>\n      <td>4473.0</td>\n      <td>8456.0</td>\n      <td>5.106197</td>\n      <td>6.163269</td>\n      <td>1.0</td>\n      <td>1.0</td>\n      <td>3.0</td>\n      <td>6.0</td>\n      <td>84.0</td>\n    </tr>\n    <tr>\n      <th>Basis_1/Factories/4</th>\n      <td>8337.0</td>\n      <td>117.962696</td>\n      <td>271.250152</td>\n      <td>0.0</td>\n      <td>24.0</td>\n      <td>38.0</td>\n      <td>72.0</td>\n      <td>5314.0</td>\n      <td>8337.0</td>\n      <td>3.111431</td>\n      <td>6.829950</td>\n      <td>1.0</td>\n      <td>1.0</td>\n      <td>1.0</td>\n      <td>2.0</td>\n      <td>138.0</td>\n    </tr>\n    <tr>\n      <th>Basis_1/Factories/5</th>\n      <td>6494.0</td>\n      <td>417.477518</td>\n      <td>515.118824</td>\n      <td>0.0</td>\n      <td>140.0</td>\n      <td>256.0</td>\n      <td>499.0</td>\n      <td>10877.0</td>\n      <td>6494.0</td>\n      <td>10.550354</td>\n      <td>11.892266</td>\n      <td>1.0</td>\n      <td>3.0</td>\n      <td>7.0</td>\n      <td>14.0</td>\n      <td>158.0</td>\n    </tr>\n  </tbody>\n</table>\n</div>"
     },
     "metadata": {},
     "output_type": "execute_result",
     "execution_count": 6
    }
   ],
   "source": [
    "slis = dataset.groupby(['storyline']).describe()\n",
    "slis.head()"
   ]
  },
  {
   "cell_type": "markdown",
   "metadata": {},
   "source": [
    "Here we are grading persons based on 'cumtime' or the cummulated time that person has spend on a storyline item before executing a correct Solution.The score is 1 point for a person/storyline_item if the person took longer then the 75% percentile of 'cumtime' (not so good) and 3 points if the person took less then the 25% percentile (fast). In all other cases a score of 2 is assigned.The following code adds and extra 'score' column to our dataset."
   ]
  },
  {
   "cell_type": "code",
   "execution_count": 7,
   "metadata": {
    "pycharm": {
     "is_executing": false
    }
   },
   "outputs": [
    {
     "data": {
      "text/plain": "                   storyline        person  cumtime  count  score\n0  Basis_1/Getting started/1  IPupil000126     74.0      1      3\n1  Basis_1/Getting started/1  IPupil000127    183.0      1      2\n2  Basis_1/Getting started/1  IPupil000128    124.0      1      2\n3  Basis_1/Getting started/1  IPupil000129    147.0      3      2\n4  Basis_1/Getting started/1  IPupil000130     56.0      3      3",
      "text/html": "<div>\n<style scoped>\n    .dataframe tbody tr th:only-of-type {\n        vertical-align: middle;\n    }\n\n    .dataframe tbody tr th {\n        vertical-align: top;\n    }\n\n    .dataframe thead th {\n        text-align: right;\n    }\n</style>\n<table border=\"1\" class=\"dataframe\">\n  <thead>\n    <tr style=\"text-align: right;\">\n      <th></th>\n      <th>storyline</th>\n      <th>person</th>\n      <th>cumtime</th>\n      <th>count</th>\n      <th>score</th>\n    </tr>\n  </thead>\n  <tbody>\n    <tr>\n      <th>0</th>\n      <td>Basis_1/Getting started/1</td>\n      <td>IPupil000126</td>\n      <td>74.0</td>\n      <td>1</td>\n      <td>3</td>\n    </tr>\n    <tr>\n      <th>1</th>\n      <td>Basis_1/Getting started/1</td>\n      <td>IPupil000127</td>\n      <td>183.0</td>\n      <td>1</td>\n      <td>2</td>\n    </tr>\n    <tr>\n      <th>2</th>\n      <td>Basis_1/Getting started/1</td>\n      <td>IPupil000128</td>\n      <td>124.0</td>\n      <td>1</td>\n      <td>2</td>\n    </tr>\n    <tr>\n      <th>3</th>\n      <td>Basis_1/Getting started/1</td>\n      <td>IPupil000129</td>\n      <td>147.0</td>\n      <td>3</td>\n      <td>2</td>\n    </tr>\n    <tr>\n      <th>4</th>\n      <td>Basis_1/Getting started/1</td>\n      <td>IPupil000130</td>\n      <td>56.0</td>\n      <td>3</td>\n      <td>3</td>\n    </tr>\n  </tbody>\n</table>\n</div>"
     },
     "metadata": {},
     "output_type": "execute_result",
     "execution_count": 7
    }
   ],
   "source": [
    "# create two python dictionaries to quickly determine scoring lines\n",
    "twentyfives = {}\n",
    "seventyfives = {}\n",
    "for index, row in slis.iterrows():\n",
    "    twentyfive = row['cumtime']['25%']\n",
    "    seventyfive = row['cumtime']['75%']\n",
    "    twentyfives[index] = twentyfive\n",
    "    seventyfives[index] = seventyfive\n",
    "# create a new score series\n",
    "scores = []\n",
    "for index, row in dataset.iterrows():\n",
    "    cumtime = row['cumtime']\n",
    "    if cumtime < twentyfives[row['storyline']]:\n",
    "        score = 3\n",
    "    elif cumtime > seventyfives[row['storyline']]:\n",
    "        score = 1\n",
    "    else:\n",
    "        score = 2\n",
    "    scores.append(score)\n",
    "# add 'score' column to dataset\n",
    "dataset['score'] = pd.Series(scores)\n",
    "dataset.head()"
   ]
  },
  {
   "cell_type": "markdown",
   "metadata": {},
   "source": [
    "Now we have scored every storyline item for every person, we can \n",
    "calculate an overall score for each person that has completed course Basic1."
   ]
  },
  {
   "cell_type": "code",
   "execution_count": 8,
   "metadata": {
    "pycharm": {
     "is_executing": false
    }
   },
   "outputs": [
    {
     "data": {
      "text/plain": "(array([ 22.,  99., 232., 317., 305., 231., 158.,  63.,  23.,  23.]),\n array([1.29545455, 1.46590909, 1.63636364, 1.80681818, 1.97727273,\n        2.14772727, 2.31818182, 2.48863636, 2.65909091, 2.82954545,\n        3.        ]),\n <a list of 10 Patch objects>)"
     },
     "metadata": {},
     "output_type": "execute_result",
     "execution_count": 8
    },
    {
     "data": {
      "text/plain": "<Figure size 432x288 with 1 Axes>",
      "image/png": "[encoded data removed]"
     },
     "metadata": {
      "needs_background": "light"
     },
     "output_type": "display_data"
    }
   ],
   "source": [
    "scoresbasis1 = dataset[['person','score']].groupby(['person']).describe()\n",
    "scoresbasis1 = scoresbasis1[scoresbasis1['score']['count']>40]\n",
    "scoresmean = scoresbasis1['score']['mean']\n",
    "plt.hist(scoresmean)"
   ]
  },
  {
   "cell_type": "markdown",
   "metadata": {
    "pycharm": {
     "name": "#%% md\n"
    }
   },
   "source": [
    "This looks ok except for the weird peek at the perfect score. This turns out the be some kids getting hold of the answer book. "
   ]
  },
  {
   "cell_type": "code",
   "execution_count": 2,
   "outputs": [
    {
     "data": {
      "text/plain": "256"
     },
     "metadata": {},
     "output_type": "execute_result",
     "execution_count": 2
    }
   ],
   "source": [
    "import os\n",
    "os.system(\"jupyter nbconvert --to pdf Basis1.ipynb\")\n"
   ],
   "metadata": {
    "collapsed": false,
    "pycharm": {
     "name": "#%%\n",
     "is_executing": false
    }
   }
  }
 ],
 "metadata": {
  "celltoolbar": "Edit Metadata",
  "kernelspec": {
   "display_name": "Python 3",
   "language": "python",
   "name": "python3"
  },
  "language_info": {
   "codemirror_mode": {
    "name": "ipython",
    "version": 3
   },
   "file_extension": ".py",
   "mimetype": "text/x-python",
   "name": "python",
   "nbconvert_exporter": "python",
   "pygments_lexer": "ipython3",
   "version": "3.7.1"
  },
  "pycharm": {
   "stem_cell": {
    "cell_type": "raw",
    "source": [],
    "metadata": {
     "collapsed": false
    }
   }
  }
 },
 "nbformat": 4,
 "nbformat_minor": 2
}