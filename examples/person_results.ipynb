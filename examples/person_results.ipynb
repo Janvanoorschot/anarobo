{
 "cells": [
  {
   "cell_type": "markdown",
   "metadata": {},
   "source": [
    "# Robomind Academy\n",
    "\n",
    "Robomind Academy was created to teach (young) persons Computational Thinking. But hand-in-hand with\n",
    "with this primary goal we as teachers learn how these persons learn Computatinal Thinking. This knowledge allows us to to imporve our methods of teaching and the circle is closed.\n",
    "\n",
    "Robomind Academy collects data about the its users and stores this for a short period of time. This data is used in the normal operation of the teaching process but an anonymised version of this data is stored for later analysis and research.The anonymised data is stored for a longer period of time and includes things like the number of runs per person per Challenge and when they were run, the Solution in each run used and the performance of the final Solutions. "
   ]
  },
  {
   "cell_type": "markdown",
   "metadata": {},
   "source": []
  },
  {
   "cell_type": "code",
   "execution_count": 1,
   "metadata": {},
   "outputs": [
    {
     "data": {
      "text/html": [
       "<div>\n",
       "<style scoped>\n",
       "    .dataframe tbody tr th:only-of-type {\n",
       "        vertical-align: middle;\n",
       "    }\n",
       "\n",
       "    .dataframe tbody tr th {\n",
       "        vertical-align: top;\n",
       "    }\n",
       "\n",
       "    .dataframe thead th {\n",
       "        text-align: right;\n",
       "    }\n",
       "</style>\n",
       "<table border=\"1\" class=\"dataframe\">\n",
       "  <thead>\n",
       "    <tr style=\"text-align: right;\">\n",
       "      <th></th>\n",
       "      <th>storyline</th>\n",
       "      <th>person</th>\n",
       "      <th>cumtime</th>\n",
       "      <th>count</th>\n",
       "    </tr>\n",
       "  </thead>\n",
       "  <tbody>\n",
       "    <tr>\n",
       "      <th>0</th>\n",
       "      <td>Basis_1/Getting started/1</td>\n",
       "      <td>IPupil000126</td>\n",
       "      <td>74.0</td>\n",
       "      <td>1</td>\n",
       "    </tr>\n",
       "    <tr>\n",
       "      <th>1</th>\n",
       "      <td>Basis_1/Getting started/1</td>\n",
       "      <td>IPupil000127</td>\n",
       "      <td>183.0</td>\n",
       "      <td>1</td>\n",
       "    </tr>\n",
       "    <tr>\n",
       "      <th>2</th>\n",
       "      <td>Basis_1/Getting started/1</td>\n",
       "      <td>IPupil000128</td>\n",
       "      <td>124.0</td>\n",
       "      <td>1</td>\n",
       "    </tr>\n",
       "    <tr>\n",
       "      <th>3</th>\n",
       "      <td>Basis_1/Getting started/1</td>\n",
       "      <td>IPupil000129</td>\n",
       "      <td>147.0</td>\n",
       "      <td>3</td>\n",
       "    </tr>\n",
       "    <tr>\n",
       "      <th>4</th>\n",
       "      <td>Basis_1/Getting started/1</td>\n",
       "      <td>IPupil000130</td>\n",
       "      <td>56.0</td>\n",
       "      <td>3</td>\n",
       "    </tr>\n",
       "  </tbody>\n",
       "</table>\n",
       "</div>"
      ],
      "text/plain": [
       "                   storyline        person  cumtime  count\n",
       "0  Basis_1/Getting started/1  IPupil000126     74.0      1\n",
       "1  Basis_1/Getting started/1  IPupil000127    183.0      1\n",
       "2  Basis_1/Getting started/1  IPupil000128    124.0      1\n",
       "3  Basis_1/Getting started/1  IPupil000129    147.0      3\n",
       "4  Basis_1/Getting started/1  IPupil000130     56.0      3"
      ]
     },
     "execution_count": 1,
     "metadata": {},
     "output_type": "execute_result"
    }
   ],
   "source": [
    "import numpy as np\n",
    "import pandas as pd\n",
    "import matplotlib.pyplot as plt\n",
    "\n",
    "dataset = pd.read_csv(\"person_results.gz\")\n",
    "\n",
    "dataset.head()"
   ]
  },
  {
   "cell_type": "code",
   "execution_count": 4,
   "metadata": {},
   "outputs": [
    {
     "name": "stdout",
     "output_type": "stream",
     "text": [
      "Empty DataFrame\n",
      "Columns: [storyline, person, cumtime, count]\n",
      "Index: []\n"
     ]
    }
   ],
   "source": [
    "weird1 = dataset['cumtime'] < 0\n",
    "weird2 = dataset['count'] < 0\n",
    "weirdrows = dataset[ weird1 | weird2]\n",
    "print(weirdrows)\n"
   ]
  },
  {
   "cell_type": "code",
   "execution_count": null,
   "metadata": {},
   "outputs": [],
   "source": []
  }
 ],
 "metadata": {
  "kernelspec": {
   "display_name": "Python 3",
   "language": "python",
   "name": "python3"
  },
  "language_info": {
   "codemirror_mode": {
    "name": "ipython",
    "version": 3
   },
   "file_extension": ".py",
   "mimetype": "text/x-python",
   "name": "python",
   "nbconvert_exporter": "python",
   "pygments_lexer": "ipython3",
   "version": "3.7.1"
  }
 },
 "nbformat": 4,
 "nbformat_minor": 2
}
