{
 "cells": [
  {
   "cell_type": "markdown",
   "metadata": {},
   "source": [
    "# Robomind Academy\n",
    "\n",
    "The Academy has been used for four years now. Time to show some stats. "
   ]
  },
  {
   "cell_type": "code",
   "execution_count": 2,
   "metadata": {
    "pycharm": {
     "is_executing": false
    }
   },
   "outputs": [],
   "source": [
    "import numpy as np\n",
    "import pandas as pd\n",
    "import matplotlib.pyplot as plt\n",
    "\n",
    "dataset = pd.read_csv(\"data/stats_weekofyear.gz\")"
   ]
  },
  {
   "cell_type": "markdown",
   "source": [
    "And now to turn this raw data into a  bar chart"
   ],
   "metadata": {
    "collapsed": false
   }
  },
  {
   "cell_type": "code",
   "execution_count": 10,
   "metadata": {
    "pycharm": {
     "is_executing": false
    }
   },
   "outputs": [
    {
     "name": "stdout",
     "text": [
      "0    169\n",
      "Name: all, dtype: int64\n",
      "1    2483\n",
      "2    2901\n",
      "3    2204\n",
      "4    2551\n",
      "5    2481\n",
      "Name: all, dtype: int64\n",
      "53     816\n",
      "54    1198\n",
      "55     998\n",
      "56    1651\n",
      "57    1739\n",
      "Name: all, dtype: int64\n",
      "105     552\n",
      "106    2002\n",
      "107    1878\n",
      "108    2044\n",
      "109    2611\n",
      "Name: all, dtype: int64\n",
      "136     602\n",
      "137    3472\n",
      "138    3913\n",
      "139    3823\n",
      "140    3798\n",
      "Name: all, dtype: int64\n"
     ],
     "output_type": "stream"
    }
   ],
   "source": [
    "dataset.loc[dataset['year'] == 2018].head()\n",
    "\n",
    "years = dataset['year'].unique()\n",
    "\n",
    "ind = np.arange(len(years))\n",
    "width = 0.35\n",
    "\n",
    "for year in years:\n",
    "    data = dataset.loc[dataset['year'] == year]['all']\n",
    "    plt.bar(ind, data, width)\n",
    "    # print(data.head())\n",
    "\n",
    "plt.show()"
   ]
  },
  {
   "cell_type": "code",
   "execution_count": null,
   "outputs": [],
   "source": [
    "import os\n",
    "os.system(\"jupyter nbconvert --to pdf Basis1.ipynb\")"
   ],
   "metadata": {
    "collapsed": false,
    "pycharm": {
     "name": "#%%\n",
     "is_executing": false
    }
   }
  }
 ],
 "metadata": {
  "celltoolbar": "Edit Metadata",
  "kernelspec": {
   "display_name": "Python 3",
   "language": "python",
   "name": "python3"
  },
  "language_info": {
   "codemirror_mode": {
    "name": "ipython",
    "version": 3
   },
   "file_extension": ".py",
   "mimetype": "text/x-python",
   "name": "python",
   "nbconvert_exporter": "python",
   "pygments_lexer": "ipython3",
   "version": "3.7.1"
  },
  "pycharm": {
   "stem_cell": {
    "cell_type": "raw",
    "source": [],
    "metadata": {
     "collapsed": false
    }
   }
  }
 },
 "nbformat": 4,
 "nbformat_minor": 2
}