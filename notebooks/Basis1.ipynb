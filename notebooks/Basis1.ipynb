{
 "cells": [
  {
   "cell_type": "markdown",
   "metadata": {},
   "source": [
    "# Robomind Academy\n",
    "\n",
    "Robomind Academy was created to teach (young) persons Computational Thinking. \n",
    "But hand-in-hand with with this primary goal we as teachers can find \n",
    "out *how* these persons learn Computational Thinking. \n",
    "This will allow us to to improve our teaching methods and research the field coding education.\n",
    "\n",
    "Robomind Academy collects data about the activity of its users and stores this data for a short period of time. \n",
    "This data is used in the normal operation of the site but an anonymized version of this \n",
    "data is stored for later analysis and research.The anonymized data is stored for a longer period of \n",
    "time and includes things like the number of runs per person per Challenge and when they were run, \n",
    "the Solution in each run used and the performance of the final Solutions. "
   ]
  },
  {
   "cell_type": "markdown",
   "metadata": {},
   "source": [
    "## The Data\n",
    "\n",
    "The core anonymized data is in a compressed JSON format and contains details about the timing, \n",
    "scripts and results of the activities of the persons in the Robomind Academy. \n",
    "The drawback of this detailed, compressed format is that it makes analyzing the data problematic. \n",
    "Therefore the Robomind Academy data was aggregated in a CSV format that just describes the \n",
    "cumulative time a person works on a storyline item and the number of time he or she runs a \n",
    "program before solving the Challenge in the storyline item.\n",
    "\n",
    "We will use the data from about 5000 students using the Basis1 course in Robomind Academy. \n",
    "This is an introductory course in Computational Thinking. \n",
    "The aggregated data was created by the 'sitting2csv.py' script in this repository. \n",
    "The following logic reads the data and displays the first five rows."
   ]
  },
  {
   "cell_type": "code",
   "execution_count": null,
   "metadata": {
    "pycharm": {
     "is_executing": false
    }
   },
   "outputs": [],
   "source": [
    "import numpy as np\n",
    "import pandas as pd\n",
    "import matplotlib.pyplot as plt\n",
    "\n",
    "dataset = pd.read_csv(\"/data/robodata/csv/perf_basis1.csv.gz\")"
   ]
  },
  {
   "cell_type": "raw",
   "source": [
    "As the first five line show the aggregated data contains the name/id of the storyline, \n",
    "the anonymized name/id of the person, the total time the person took before coming up \n",
    "with the solution (cumtime) and the number of runs (count) it took."
   ],
   "metadata": {
    "collapsed": false
   }
  },
  {
   "cell_type": "markdown",
   "metadata": {},
   "source": [
    "## Grading Pupils\n",
    "\n",
    "In this notebook a grading system for pupils is developed using the aggregated data. \n",
    "As a first step we calculate the averages of 'cumtime' and 'count' for each storyline-item."
   ]
  },
  {
   "cell_type": "code",
   "execution_count": 21,
   "metadata": {
    "scrolled": true,
    "pycharm": {
     "is_executing": false
    },
    "ExecuteTime": {
     "end_time": "2023-07-06T08:53:24.100273478Z",
     "start_time": "2023-07-06T08:53:23.970381961Z"
    }
   },
   "outputs": [],
   "source": [
    "slis = dataset.groupby(['storyline']).describe()"
   ]
  },
  {
   "cell_type": "code",
   "execution_count": 23,
   "outputs": [
    {
     "name": "stdout",
     "output_type": "stream",
     "text": [
      "                                cumtime                                        \\\n",
      "                                  count        mean          std  min     25%   \n",
      "storyline                                                                       \n",
      "Basis_1/Factories/1              8131.0  542.552208   599.339663  0.0  207.00   \n",
      "Basis_1/Factories/2              8026.0   74.602417   170.654963  0.0   20.00   \n",
      "Basis_1/Factories/3              7907.0  236.120526   343.491212  0.0   84.00   \n",
      "Basis_1/Factories/4              7811.0  143.957368   375.005978  0.0   26.00   \n",
      "Basis_1/Factories/5              6388.0  475.633845   631.013866  1.0  148.75   \n",
      "Basis_1/Factories/6              5615.0  516.036687   649.892357  2.0  168.00   \n",
      "Basis_1/Getting started/1       14468.0  581.792715   772.342343  0.0  136.00   \n",
      "Basis_1/Getting started/2       10999.0  311.186017   593.363857  0.0   33.00   \n",
      "Basis_1/Getting started/3        9629.0  295.573891   498.898593  0.0   48.00   \n",
      "Basis_1/Getting started/4        8794.0  237.915624   391.718121  0.0   42.00   \n",
      "Basis_1/Getting started/5        8524.0  286.639606   448.439332  0.0   43.00   \n",
      "Basis_1/Getting started/6        8156.0  180.192374   289.352961  0.0   33.00   \n",
      "Basis_1/Getting started/7        8025.0   81.771838   151.076507  0.0   23.00   \n",
      "Basis_1/Guarding and slalom/1    4238.0  438.885559   802.154005  0.0   60.00   \n",
      "Basis_1/Guarding and slalom/2    6496.0  470.522475   631.708664  1.0  110.00   \n",
      "Basis_1/Guarding and slalom/3    5649.0  738.382192   914.032024  0.0  218.00   \n",
      "Basis_1/Guarding and slalom/4    5360.0  301.108396   618.313047  2.0   43.00   \n",
      "Basis_1/Guarding and slalom/5    5187.0  532.862734   717.936010  2.0  140.00   \n",
      "Basis_1/Guarding and slalom/6    4780.0  484.359623   933.278848  0.0   72.00   \n",
      "Basis_1/Guarding and slalom/7    4651.0  196.955708   350.402380  0.0   56.00   \n",
      "Basis_1/Line following/1         5780.0  628.324048   807.156362  0.0  182.75   \n",
      "Basis_1/Line following/2         5602.0  253.545698   521.919972  0.0   24.00   \n",
      "Basis_1/Line following/3         5432.0  363.038108   638.543039  0.0   19.00   \n",
      "Basis_1/Line following/4         5126.0  702.799649  1063.622295  0.0  175.00   \n",
      "Basis_1/Line following/5         4821.0  596.185854   976.035746  1.0   36.00   \n",
      "Basis_1/Navigating/1             7102.0  717.624754   992.251430  0.0  161.00   \n",
      "Basis_1/Navigating/2             6996.0   80.570612   171.738155  0.0   21.00   \n",
      "Basis_1/Navigating/3             6719.0  481.055663   746.456932  0.0  119.00   \n",
      "Basis_1/Navigating/4             6650.0   96.795940   240.077422  0.0   24.00   \n",
      "Basis_1/Navigating/5             6478.0  362.190028   758.829903  0.0   65.00   \n",
      "Basis_1/Navigating/6             5269.0  521.385083   716.569430  0.0  159.00   \n",
      "Basis_1/Navigating/7             4987.0  233.830158   528.174585  0.0   19.00   \n",
      "Basis_1/Painting floors/1       10264.0  181.094797   300.169814  0.0   45.00   \n",
      "Basis_1/Painting floors/2        9598.0  269.403626   396.304179  1.0   84.00   \n",
      "Basis_1/Painting floors/3        9500.0  100.770737   203.470794  0.0   30.00   \n",
      "Basis_1/Painting floors/4        9258.0  333.758047   521.122196  0.0   89.00   \n",
      "Basis_1/Painting floors/5        8998.0  266.709380   376.399340  0.0   72.00   \n",
      "Basis_1/Painting floors/6        8436.0  624.635254   809.499248  1.0  181.00   \n",
      "Basis_1/Painting floors/7        6183.0  753.664888   869.276730  0.0  260.00   \n",
      "Basis_1/Tracking and tracing/1   6124.0  590.019268   780.582068  0.0  164.00   \n",
      "Basis_1/Tracking and tracing/2   5828.0  502.351064   750.307890  0.0  119.00   \n",
      "Basis_1/Tracking and tracing/3   5763.0  120.114350   308.523021  0.0   18.00   \n",
      "Basis_1/Tracking and tracing/4   5713.0  108.078068   297.354282  2.0   14.00   \n",
      "Basis_1/Tracking and tracing/5   4905.0  302.628746   518.618055  0.0   72.00   \n",
      "\n",
      "                                                          count             \\\n",
      "                                  50%     75%      max    count       mean   \n",
      "storyline                                                                    \n",
      "Basis_1/Factories/1             347.0  638.50  13425.0   8131.0   7.921781   \n",
      "Basis_1/Factories/2              33.0   58.00   3566.0   8026.0   1.562796   \n",
      "Basis_1/Factories/3             140.0  249.50   8974.0   7907.0   5.238902   \n",
      "Basis_1/Factories/4              43.0   86.00   6197.0   7811.0   3.363718   \n",
      "Basis_1/Factories/5             275.0  559.00  15483.0   6388.0  10.875078   \n",
      "Basis_1/Factories/6             310.0  601.00   9506.0   5615.0  12.006946   \n",
      "Basis_1/Getting started/1       324.5  760.00  23094.0  14468.0   4.954036   \n",
      "Basis_1/Getting started/2       148.0  337.00  18469.0  10999.0   5.309210   \n",
      "Basis_1/Getting started/3       159.0  330.00  13617.0   9629.0   4.513241   \n",
      "Basis_1/Getting started/4       130.0  270.75   8044.0   8794.0   4.355015   \n",
      "Basis_1/Getting started/5       167.0  340.25   9628.0   8524.0   5.698146   \n",
      "Basis_1/Getting started/6       104.5  210.00   4495.0   8156.0   3.788867   \n",
      "Basis_1/Getting started/7        47.0   83.00   4229.0   8025.0   1.052087   \n",
      "Basis_1/Guarding and slalom/1   157.0  481.75  18193.0   4238.0   3.023832   \n",
      "Basis_1/Guarding and slalom/2   257.5  560.00   8673.0   6496.0   6.522475   \n",
      "Basis_1/Guarding and slalom/3   429.0  918.00  15224.0   5649.0  12.799788   \n",
      "Basis_1/Guarding and slalom/4    93.0  269.00   9114.0   5360.0   4.950560   \n",
      "Basis_1/Guarding and slalom/5   288.0  631.50   9369.0   5187.0  11.311934   \n",
      "Basis_1/Guarding and slalom/6   156.0  521.00  23559.0   4780.0   9.137657   \n",
      "Basis_1/Guarding and slalom/7    96.0  189.00   6517.0   4651.0   4.172221   \n",
      "Basis_1/Line following/1        343.5  749.00  16920.0   5780.0   9.263668   \n",
      "Basis_1/Line following/2        113.0  246.00   9660.0   5602.0   4.987861   \n",
      "Basis_1/Line following/3         68.5  486.00  11469.0   5432.0   7.090206   \n",
      "Basis_1/Line following/4        345.0  784.00  14934.0   5126.0  12.044479   \n",
      "Basis_1/Line following/5        237.0  781.00  15903.0   4821.0  10.244555   \n",
      "Basis_1/Navigating/1            369.0  886.00  18644.0   7102.0   9.050690   \n",
      "Basis_1/Navigating/2             34.0   65.00   3183.0   6996.0   1.591338   \n",
      "Basis_1/Navigating/3            233.0  527.00  14437.0   6719.0   9.290519   \n",
      "Basis_1/Navigating/4             41.0   79.00   5736.0   6650.0   2.007669   \n",
      "Basis_1/Navigating/5            118.0  307.00  16129.0   6478.0   6.621488   \n",
      "Basis_1/Navigating/6            284.0  590.00  10541.0   5269.0  10.951034   \n",
      "Basis_1/Navigating/7             52.0  205.00   9464.0   4987.0   5.186284   \n",
      "Basis_1/Painting floors/1        81.0  175.00   5712.0  10264.0   1.083691   \n",
      "Basis_1/Painting floors/2       143.0  283.00   7255.0   9598.0   6.005418   \n",
      "Basis_1/Painting floors/3        49.0   92.00   6224.0   9500.0   2.313368   \n",
      "Basis_1/Painting floors/4       161.0  362.00  14983.0   9258.0   7.537805   \n",
      "Basis_1/Painting floors/5       147.0  303.00   6696.0   8998.0   4.986886   \n",
      "Basis_1/Painting floors/6       365.0  746.00  16008.0   8436.0  10.919512   \n",
      "Basis_1/Painting floors/7       471.0  911.00  15230.0   6183.0  13.084910   \n",
      "Basis_1/Tracking and tracing/1  322.0  704.00  11620.0   6124.0   8.864794   \n",
      "Basis_1/Tracking and tracing/2  241.0  564.00   9252.0   5828.0   9.710364   \n",
      "Basis_1/Tracking and tracing/3   41.0   91.00   5975.0   5763.0   2.509110   \n",
      "Basis_1/Tracking and tracing/4   28.0   95.00   6754.0   5713.0   2.665325   \n",
      "Basis_1/Tracking and tracing/5  137.0  307.00   8886.0   4905.0   6.154944   \n",
      "\n",
      "                                ...                 score                      \\\n",
      "                                ...   75%    max    count      mean       std   \n",
      "storyline                       ...                                             \n",
      "Basis_1/Factories/1             ...  10.0  155.0   8131.0  1.998524  0.706148   \n",
      "Basis_1/Factories/2             ...   1.0   59.0   8026.0  2.000997  0.703706   \n",
      "Basis_1/Factories/3             ...   7.0  238.0   7907.0  1.997344  0.705311   \n",
      "Basis_1/Factories/4             ...   2.0  174.0   7811.0  1.983997  0.695237   \n",
      "Basis_1/Factories/5             ...  14.0  249.0   6388.0  2.000470  0.706830   \n",
      "Basis_1/Factories/6             ...  15.0  185.0   5615.0  1.998931  0.705971   \n",
      "Basis_1/Getting started/1       ...   6.0  254.0  14468.0  1.999793  0.706593   \n",
      "Basis_1/Getting started/2       ...   6.0  179.0  10999.0  1.996363  0.703811   \n",
      "Basis_1/Getting started/3       ...   5.0  203.0   9629.0  1.999585  0.706813   \n",
      "Basis_1/Getting started/4       ...   5.0  378.0   8794.0  1.997385  0.705371   \n",
      "Basis_1/Getting started/5       ...   7.0  197.0   8524.0  1.998592  0.706151   \n",
      "Basis_1/Getting started/6       ...   5.0  146.0   8156.0  1.998038  0.704193   \n",
      "Basis_1/Getting started/7       ...   1.0    9.0   8025.0  1.995389  0.702051   \n",
      "Basis_1/Guarding and slalom/1   ...   2.0  112.0   4238.0  1.999056  0.706689   \n",
      "Basis_1/Guarding and slalom/2   ...   8.0   85.0   6496.0  1.998768  0.705634   \n",
      "Basis_1/Guarding and slalom/3   ...  17.0  357.0   5649.0  1.998230  0.705851   \n",
      "Basis_1/Guarding and slalom/4   ...   4.0  161.0   5360.0  1.997575  0.702801   \n",
      "Basis_1/Guarding and slalom/5   ...  14.0  184.0   5187.0  1.998650  0.706287   \n",
      "Basis_1/Guarding and slalom/6   ...  10.0  211.0   4780.0  1.999372  0.706144   \n",
      "Basis_1/Guarding and slalom/7   ...   4.0  160.0   4651.0  1.995270  0.702973   \n",
      "Basis_1/Line following/1        ...  11.0  186.0   5780.0  2.000519  0.706801   \n",
      "Basis_1/Line following/2        ...   5.0  203.0   5602.0  1.999821  0.705906   \n",
      "Basis_1/Line following/3        ...   9.0  208.0   5432.0  1.986377  0.696546   \n",
      "Basis_1/Line following/4        ...  15.0  165.0   5126.0  2.000000  0.707038   \n",
      "Basis_1/Line following/5        ...  13.0  178.0   4821.0  1.997303  0.704603   \n",
      "Basis_1/Navigating/1            ...  11.0  226.0   7102.0  1.999014  0.706359   \n",
      "Basis_1/Navigating/2            ...   1.0   54.0   6996.0  1.985277  0.694045   \n",
      "Basis_1/Navigating/3            ...  11.0  238.0   6719.0  1.999405  0.706369   \n",
      "Basis_1/Navigating/4            ...   2.0  109.0   6650.0  2.001654  0.703319   \n",
      "Basis_1/Navigating/5            ...   6.0  187.0   6478.0  1.999537  0.706506   \n",
      "Basis_1/Navigating/6            ...  14.0  216.0   5269.0  2.000949  0.706435   \n",
      "Basis_1/Navigating/7            ...   5.0  142.0   4987.0  1.989573  0.699472   \n",
      "Basis_1/Painting floors/1       ...   1.0   72.0  10264.0  1.995713  0.702428   \n",
      "Basis_1/Painting floors/2       ...   7.0  116.0   9598.0  1.994999  0.702765   \n",
      "Basis_1/Painting floors/3       ...   2.0   78.0   9500.0  1.990211  0.697860   \n",
      "Basis_1/Painting floors/4       ...   8.0  227.0   9258.0  2.000000  0.705998   \n",
      "Basis_1/Painting floors/5       ...   6.0  123.0   8998.0  2.000778  0.706517   \n",
      "Basis_1/Painting floors/6       ...  14.0  134.0   8436.0  1.998815  0.705973   \n",
      "Basis_1/Painting floors/7       ...  16.0  266.0   6183.0  1.999515  0.706649   \n",
      "Basis_1/Tracking and tracing/1  ...  10.0  147.0   6124.0  1.999020  0.706008   \n",
      "Basis_1/Tracking and tracing/2  ...  12.0  174.0   5828.0  1.997769  0.705098   \n",
      "Basis_1/Tracking and tracing/3  ...   2.0   96.0   5763.0  1.992539  0.698424   \n",
      "Basis_1/Tracking and tracing/4  ...   2.0  129.0   5713.0  1.998950  0.704377   \n",
      "Basis_1/Tracking and tracing/5  ...   7.0  160.0   4905.0  1.995923  0.703626   \n",
      "\n",
      "                                                           \n",
      "                                min   25%  50%   75%  max  \n",
      "storyline                                                  \n",
      "Basis_1/Factories/1             1.0  1.50  2.0  2.00  3.0  \n",
      "Basis_1/Factories/2             1.0  2.00  2.0  2.00  3.0  \n",
      "Basis_1/Factories/3             1.0  1.50  2.0  2.00  3.0  \n",
      "Basis_1/Factories/4             1.0  2.00  2.0  2.00  3.0  \n",
      "Basis_1/Factories/5             1.0  2.00  2.0  2.25  3.0  \n",
      "Basis_1/Factories/6             1.0  2.00  2.0  2.00  3.0  \n",
      "Basis_1/Getting started/1       1.0  2.00  2.0  2.00  3.0  \n",
      "Basis_1/Getting started/2       1.0  2.00  2.0  2.00  3.0  \n",
      "Basis_1/Getting started/3       1.0  2.00  2.0  2.00  3.0  \n",
      "Basis_1/Getting started/4       1.0  1.25  2.0  2.00  3.0  \n",
      "Basis_1/Getting started/5       1.0  1.75  2.0  2.00  3.0  \n",
      "Basis_1/Getting started/6       1.0  2.00  2.0  2.00  3.0  \n",
      "Basis_1/Getting started/7       1.0  2.00  2.0  2.00  3.0  \n",
      "Basis_1/Guarding and slalom/1   1.0  1.25  2.0  2.00  3.0  \n",
      "Basis_1/Guarding and slalom/2   1.0  2.00  2.0  2.00  3.0  \n",
      "Basis_1/Guarding and slalom/3   1.0  2.00  2.0  2.00  3.0  \n",
      "Basis_1/Guarding and slalom/4   1.0  2.00  2.0  2.00  3.0  \n",
      "Basis_1/Guarding and slalom/5   1.0  1.50  2.0  2.00  3.0  \n",
      "Basis_1/Guarding and slalom/6   1.0  2.00  2.0  2.00  3.0  \n",
      "Basis_1/Guarding and slalom/7   1.0  2.00  2.0  2.00  3.0  \n",
      "Basis_1/Line following/1        1.0  2.00  2.0  2.25  3.0  \n",
      "Basis_1/Line following/2        1.0  2.00  2.0  2.00  3.0  \n",
      "Basis_1/Line following/3        1.0  2.00  2.0  2.00  3.0  \n",
      "Basis_1/Line following/4        1.0  2.00  2.0  2.00  3.0  \n",
      "Basis_1/Line following/5        1.0  2.00  2.0  2.00  3.0  \n",
      "Basis_1/Navigating/1            1.0  2.00  2.0  2.00  3.0  \n",
      "Basis_1/Navigating/2            1.0  2.00  2.0  2.00  3.0  \n",
      "Basis_1/Navigating/3            1.0  2.00  2.0  2.00  3.0  \n",
      "Basis_1/Navigating/4            1.0  2.00  2.0  2.00  3.0  \n",
      "Basis_1/Navigating/5            1.0  2.00  2.0  2.00  3.0  \n",
      "Basis_1/Navigating/6            1.0  2.00  2.0  2.00  3.0  \n",
      "Basis_1/Navigating/7            1.0  2.00  2.0  2.00  3.0  \n",
      "Basis_1/Painting floors/1       1.0  2.00  2.0  2.00  3.0  \n",
      "Basis_1/Painting floors/2       1.0  2.00  2.0  2.00  3.0  \n",
      "Basis_1/Painting floors/3       1.0  2.00  2.0  2.00  3.0  \n",
      "Basis_1/Painting floors/4       1.0  2.00  2.0  2.00  3.0  \n",
      "Basis_1/Painting floors/5       1.0  2.00  2.0  2.00  3.0  \n",
      "Basis_1/Painting floors/6       1.0  2.00  2.0  2.00  3.0  \n",
      "Basis_1/Painting floors/7       1.0  2.00  2.0  2.00  3.0  \n",
      "Basis_1/Tracking and tracing/1  1.0  2.00  2.0  2.00  3.0  \n",
      "Basis_1/Tracking and tracing/2  1.0  2.00  2.0  2.00  3.0  \n",
      "Basis_1/Tracking and tracing/3  1.0  2.00  2.0  2.00  3.0  \n",
      "Basis_1/Tracking and tracing/4  1.0  2.00  2.0  2.00  3.0  \n",
      "Basis_1/Tracking and tracing/5  1.0  2.00  2.0  2.00  3.0  \n",
      "\n",
      "[44 rows x 24 columns]\n"
     ]
    }
   ],
   "source": [
    "print(slis)"
   ],
   "metadata": {
    "collapsed": false,
    "ExecuteTime": {
     "end_time": "2023-07-06T08:54:56.486459467Z",
     "start_time": "2023-07-06T08:54:56.444565193Z"
    }
   }
  },
  {
   "cell_type": "markdown",
   "metadata": {},
   "source": [
    "Here we are grading persons based on 'cumtime' or the cummulated time that person has \n",
    "spend on a storyline item before executing a correct Solution.\n",
    "The score is 1 point for a person/storyline_item if the person took longer \n",
    "then the 75% percentile of 'cumtime' (not so good) and 3 points if the person took less \n",
    "then the 25% percentile (fast). \n",
    "In all other cases a score of 2 is assigned.The following code adds and extra 'score' column to our dataset."
   ]
  },
  {
   "cell_type": "code",
   "execution_count": null,
   "metadata": {
    "pycharm": {
     "is_executing": false
    }
   },
   "outputs": [],
   "source": [
    "# create two python dictionaries to quickly determine scoring lines\n",
    "twentyfives = {}\n",
    "seventyfives = {}\n",
    "for index, row in slis.iterrows():\n",
    "    twentyfive = row['cumtime']['25%']\n",
    "    seventyfive = row['cumtime']['75%']\n",
    "    twentyfives[index] = twentyfive\n",
    "    seventyfives[index] = seventyfive\n",
    "# create a new score series\n",
    "scores = []\n",
    "for index, row in dataset.iterrows():\n",
    "    cumtime = row['cumtime']\n",
    "    if cumtime < twentyfives[row['storyline']]:\n",
    "        score = 3\n",
    "    elif cumtime > seventyfives[row['storyline']]:\n",
    "        score = 1\n",
    "    else:\n",
    "        score = 2\n",
    "    scores.append(score)\n",
    "# add 'score' column to dataset\n",
    "dataset['score'] = pd.Series(scores)"
   ]
  },
  {
   "cell_type": "markdown",
   "metadata": {},
   "source": [
    "Now we have scored every storyline item for every person, we can \n",
    "calculate an overall score for each person that has completed course Basic1."
   ]
  },
  {
   "cell_type": "code",
   "execution_count": null,
   "metadata": {
    "pycharm": {
     "is_executing": false
    }
   },
   "outputs": [],
   "source": [
    "scoresbasis1 = dataset[['person','score']].groupby(['person']).describe()\n",
    "scoresbasis1 = scoresbasis1[scoresbasis1['score']['count']>40]\n",
    "scoresmean = scoresbasis1['score']['mean']\n",
    "plt.hist(scoresmean)"
   ]
  },
  {
   "cell_type": "markdown",
   "metadata": {
    "pycharm": {
     "name": "#%% md\n"
    }
   },
   "source": [
    "This looks ok except for the weird peek at the perfect score. This turns out the be some kids getting hold of the answer book."
   ]
  },
  {
   "cell_type": "code",
   "execution_count": null,
   "outputs": [],
   "source": [],
   "metadata": {
    "collapsed": false
   }
  },
  {
   "cell_type": "code",
   "execution_count": null,
   "outputs": [],
   "source": [
    "import os\n",
    "os.system(\"jupyter nbconvert --to pdf Basis1.ipynb\")\n"
   ],
   "metadata": {
    "collapsed": false,
    "pycharm": {
     "name": "#%%\n",
     "is_executing": false
    }
   }
  }
 ],
 "metadata": {
  "celltoolbar": "Edit Metadata",
  "kernelspec": {
   "display_name": "Python 3",
   "language": "python",
   "name": "python3"
  },
  "language_info": {
   "codemirror_mode": {
    "name": "ipython",
    "version": 3
   },
   "file_extension": ".py",
   "mimetype": "text/x-python",
   "name": "python",
   "nbconvert_exporter": "python",
   "pygments_lexer": "ipython3",
   "version": "3.7.1"
  },
  "pycharm": {
   "stem_cell": {
    "cell_type": "raw",
    "source": [],
    "metadata": {
     "collapsed": false
    }
   }
  }
 },
 "nbformat": 4,
 "nbformat_minor": 2
}
