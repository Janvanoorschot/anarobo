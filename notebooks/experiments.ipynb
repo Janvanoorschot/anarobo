{
 "cells": [
  {
   "cell_type": "code",
   "execution_count": 15,
   "outputs": [],
   "source": [
    "import numpy as np\n",
    "import pandas as pd\n",
    "import matplotlib.pyplot as plt"
   ],
   "metadata": {
    "collapsed": false,
    "pycharm": {
     "name": "#%%\n",
     "is_executing": false
    }
   }
  },
  {
   "cell_type": "markdown",
   "source": [
    "# Pandas experiments\n",
    "Pandas are an acquired taste. This document contains some demonstrations and experiments that create and manipulate\n",
    "Panda datastructures (Serie, Dataset)"
   ],
   "metadata": {
    "collapsed": false
   }
  },
  {
   "cell_type": "markdown",
   "source": [
    "# Series"
   ],
   "metadata": {
    "collapsed": false
   }
  },
  {
   "cell_type": "markdown",
   "source": [
    "## Creating"
   ],
   "metadata": {
    "collapsed": false,
    "pycharm": {
     "name": "#%% md\n"
    }
   }
  },
  {
   "cell_type": "code",
   "execution_count": 16,
   "outputs": [
    {
     "data": {
      "text/plain": "0    1\n1    2\n2    3\n3    4\ndtype: int64"
     },
     "metadata": {},
     "output_type": "execute_result",
     "execution_count": 16
    }
   ],
   "source": [
    "serie1 = pd.Series([1,2,3,4])\n",
    "serie1"
   ],
   "metadata": {
    "collapsed": false,
    "pycharm": {
     "name": "#%%\n",
     "is_executing": false
    }
   }
  },
  {
   "cell_type": "code",
   "execution_count": 17,
   "outputs": [
    {
     "data": {
      "text/plain": "a    1\nb    2\nc    3\ndtype: int64"
     },
     "metadata": {},
     "output_type": "execute_result",
     "execution_count": 17
    }
   ],
   "source": [
    "serie2 = pd.Series({'a':1, 'b':2, 'c':3})\n",
    "serie2\n"
   ],
   "metadata": {
    "collapsed": false,
    "pycharm": {
     "name": "#%%\n",
     "is_executing": false
    }
   }
  },
  {
   "cell_type": "markdown",
   "source": [
    "# DataFrame"
   ],
   "metadata": {
    "collapsed": false,
    "pycharm": {
     "name": "#%% md\n"
    }
   }
  },
  {
   "cell_type": "markdown",
   "source": [
    "## Creating"
   ],
   "metadata": {
    "collapsed": false,
    "pycharm": {
     "name": "#%% md\n"
    }
   }
  },
  {
   "cell_type": "code",
   "execution_count": 18,
   "outputs": [
    {
     "data": {
      "text/plain": "   one  two\na  1.0  1.0\nb  2.0  2.0\nc  3.0  3.0\nd  NaN  4.0",
      "text/html": "<div>\n<style scoped>\n    .dataframe tbody tr th:only-of-type {\n        vertical-align: middle;\n    }\n\n    .dataframe tbody tr th {\n        vertical-align: top;\n    }\n\n    .dataframe thead th {\n        text-align: right;\n    }\n</style>\n<table border=\"1\" class=\"dataframe\">\n  <thead>\n    <tr style=\"text-align: right;\">\n      <th></th>\n      <th>one</th>\n      <th>two</th>\n    </tr>\n  </thead>\n  <tbody>\n    <tr>\n      <th>a</th>\n      <td>1.0</td>\n      <td>1.0</td>\n    </tr>\n    <tr>\n      <th>b</th>\n      <td>2.0</td>\n      <td>2.0</td>\n    </tr>\n    <tr>\n      <th>c</th>\n      <td>3.0</td>\n      <td>3.0</td>\n    </tr>\n    <tr>\n      <th>d</th>\n      <td>NaN</td>\n      <td>4.0</td>\n    </tr>\n  </tbody>\n</table>\n</div>"
     },
     "metadata": {},
     "output_type": "execute_result",
     "execution_count": 18
    }
   ],
   "source": [
    "d = {\n",
    "    'one': pd.Series([1., 2., 3.], index=['a', 'b', 'c']), \n",
    "    'two': pd.Series([1., 2., 3., 4.], index=['a', 'b', 'c', 'd'])}\n",
    "df = pd.DataFrame(d)\n",
    "df"
   ],
   "metadata": {
    "collapsed": false,
    "pycharm": {
     "name": "#%%\n",
     "is_executing": false
    }
   }
  },
  {
   "cell_type": "markdown",
   "source": [
    "## Reading a CSV file"
   ],
   "metadata": {
    "collapsed": false
   }
  },
  {
   "cell_type": "code",
   "execution_count": 19,
   "outputs": [
    {
     "data": {
      "text/plain": "   year  weekofyear   all   ano  ident  inclass  teacher\n0  2015          53   169   143     19        7        0\n1  2016           1  2483  1897    455      124        7\n2  2016           2  2901  1758    793      333       17\n3  2016           3  2204  1558    463      167       16\n4  2016           4  2551  1726    421      379       25",
      "text/html": "<div>\n<style scoped>\n    .dataframe tbody tr th:only-of-type {\n        vertical-align: middle;\n    }\n\n    .dataframe tbody tr th {\n        vertical-align: top;\n    }\n\n    .dataframe thead th {\n        text-align: right;\n    }\n</style>\n<table border=\"1\" class=\"dataframe\">\n  <thead>\n    <tr style=\"text-align: right;\">\n      <th></th>\n      <th>year</th>\n      <th>weekofyear</th>\n      <th>all</th>\n      <th>ano</th>\n      <th>ident</th>\n      <th>inclass</th>\n      <th>teacher</th>\n    </tr>\n  </thead>\n  <tbody>\n    <tr>\n      <th>0</th>\n      <td>2015</td>\n      <td>53</td>\n      <td>169</td>\n      <td>143</td>\n      <td>19</td>\n      <td>7</td>\n      <td>0</td>\n    </tr>\n    <tr>\n      <th>1</th>\n      <td>2016</td>\n      <td>1</td>\n      <td>2483</td>\n      <td>1897</td>\n      <td>455</td>\n      <td>124</td>\n      <td>7</td>\n    </tr>\n    <tr>\n      <th>2</th>\n      <td>2016</td>\n      <td>2</td>\n      <td>2901</td>\n      <td>1758</td>\n      <td>793</td>\n      <td>333</td>\n      <td>17</td>\n    </tr>\n    <tr>\n      <th>3</th>\n      <td>2016</td>\n      <td>3</td>\n      <td>2204</td>\n      <td>1558</td>\n      <td>463</td>\n      <td>167</td>\n      <td>16</td>\n    </tr>\n    <tr>\n      <th>4</th>\n      <td>2016</td>\n      <td>4</td>\n      <td>2551</td>\n      <td>1726</td>\n      <td>421</td>\n      <td>379</td>\n      <td>25</td>\n    </tr>\n  </tbody>\n</table>\n</div>"
     },
     "metadata": {},
     "output_type": "execute_result",
     "execution_count": 19
    }
   ],
   "source": [
    "csv = pd.read_csv(\"data/stats_weekofyear.gz\")\n",
    "\n",
    "csv.head()"
   ],
   "metadata": {
    "collapsed": false,
    "pycharm": {
     "name": "#%%\n",
     "is_executing": false
    }
   }
  },
  {
   "cell_type": "markdown",
   "source": [
    "## Some Selections (create a series)"
   ],
   "metadata": {
    "collapsed": false
   }
  },
  {
   "cell_type": "code",
   "execution_count": 20,
   "outputs": [
    {
     "data": {
      "text/plain": "0       169\n1      2483\n2      2901\n3      2204\n4      2551\n       ... \n180    2553\n181    2598\n182    3150\n183    2328\n184    3449\nName: all, Length: 185, dtype: int64"
     },
     "metadata": {},
     "output_type": "execute_result",
     "execution_count": 20
    }
   ],
   "source": [
    "s = csv['all']\n",
    "s"
   ],
   "metadata": {
    "collapsed": false,
    "pycharm": {
     "name": "#%%\n",
     "is_executing": false
    }
   }
  },
  {
   "cell_type": "code",
   "execution_count": 20,
   "outputs": [],
   "source": [],
   "metadata": {
    "collapsed": false,
    "pycharm": {
     "name": "#%%\n",
     "is_executing": false
    }
   }
  },
  {
   "cell_type": "markdown",
   "source": [
    "## Grouping\n"
   ],
   "metadata": {
    "collapsed": false
   }
  },
  {
   "cell_type": "code",
   "execution_count": 21,
   "outputs": [
    {
     "data": {
      "text/plain": "                  all   ano  ident  inclass  teacher\nyear weekofyear                                     \n2015 53           169   143     19        7        0\n2016 1           2483  1897    455      124        7\n     2           2901  1758    793      333       17\n     3           2204  1558    463      167       16\n     4           2551  1726    421      379       25\n...               ...   ...    ...      ...      ...\n2019 45          2553  1479    732      324       18\n     46          2598  1387    830      348       33\n     47          3150  1463   1053      623       11\n     48          2328  1063    933      321       11\n     49          3449  1484   1038      897       30\n\n[185 rows x 5 columns]",
      "text/html": "<div>\n<style scoped>\n    .dataframe tbody tr th:only-of-type {\n        vertical-align: middle;\n    }\n\n    .dataframe tbody tr th {\n        vertical-align: top;\n    }\n\n    .dataframe thead th {\n        text-align: right;\n    }\n</style>\n<table border=\"1\" class=\"dataframe\">\n  <thead>\n    <tr style=\"text-align: right;\">\n      <th></th>\n      <th></th>\n      <th>all</th>\n      <th>ano</th>\n      <th>ident</th>\n      <th>inclass</th>\n      <th>teacher</th>\n    </tr>\n    <tr>\n      <th>year</th>\n      <th>weekofyear</th>\n      <th></th>\n      <th></th>\n      <th></th>\n      <th></th>\n      <th></th>\n    </tr>\n  </thead>\n  <tbody>\n    <tr>\n      <th>2015</th>\n      <th>53</th>\n      <td>169</td>\n      <td>143</td>\n      <td>19</td>\n      <td>7</td>\n      <td>0</td>\n    </tr>\n    <tr>\n      <th rowspan=\"4\" valign=\"top\">2016</th>\n      <th>1</th>\n      <td>2483</td>\n      <td>1897</td>\n      <td>455</td>\n      <td>124</td>\n      <td>7</td>\n    </tr>\n    <tr>\n      <th>2</th>\n      <td>2901</td>\n      <td>1758</td>\n      <td>793</td>\n      <td>333</td>\n      <td>17</td>\n    </tr>\n    <tr>\n      <th>3</th>\n      <td>2204</td>\n      <td>1558</td>\n      <td>463</td>\n      <td>167</td>\n      <td>16</td>\n    </tr>\n    <tr>\n      <th>4</th>\n      <td>2551</td>\n      <td>1726</td>\n      <td>421</td>\n      <td>379</td>\n      <td>25</td>\n    </tr>\n    <tr>\n      <th>...</th>\n      <th>...</th>\n      <td>...</td>\n      <td>...</td>\n      <td>...</td>\n      <td>...</td>\n      <td>...</td>\n    </tr>\n    <tr>\n      <th rowspan=\"5\" valign=\"top\">2019</th>\n      <th>45</th>\n      <td>2553</td>\n      <td>1479</td>\n      <td>732</td>\n      <td>324</td>\n      <td>18</td>\n    </tr>\n    <tr>\n      <th>46</th>\n      <td>2598</td>\n      <td>1387</td>\n      <td>830</td>\n      <td>348</td>\n      <td>33</td>\n    </tr>\n    <tr>\n      <th>47</th>\n      <td>3150</td>\n      <td>1463</td>\n      <td>1053</td>\n      <td>623</td>\n      <td>11</td>\n    </tr>\n    <tr>\n      <th>48</th>\n      <td>2328</td>\n      <td>1063</td>\n      <td>933</td>\n      <td>321</td>\n      <td>11</td>\n    </tr>\n    <tr>\n      <th>49</th>\n      <td>3449</td>\n      <td>1484</td>\n      <td>1038</td>\n      <td>897</td>\n      <td>30</td>\n    </tr>\n  </tbody>\n</table>\n<p>185 rows × 5 columns</p>\n</div>"
     },
     "metadata": {},
     "output_type": "execute_result",
     "execution_count": 21
    }
   ],
   "source": [
    "gcsv = csv.groupby(['year', 'weekofyear']).sum()\n",
    "gcsv"
   ],
   "metadata": {
    "collapsed": false,
    "pycharm": {
     "name": "#%%\n",
     "is_executing": false
    }
   }
  },
  {
   "cell_type": "markdown",
   "source": [
    "## Pivotting"
   ],
   "metadata": {
    "collapsed": false,
    "pycharm": {
     "name": "#%% md\n"
    }
   }
  },
  {
   "cell_type": "code",
   "execution_count": 22,
   "outputs": [
    {
     "data": {
      "text/plain": "year         2015    2016    2017    2018    2019\nweekofyear                                       \n1             NaN  2483.0   816.0   552.0   602.0\n2             NaN  2901.0  1198.0  2002.0  3472.0\n3             NaN  2204.0   998.0  1878.0  3913.0\n4             NaN  2551.0  1651.0  2044.0  3823.0\n5             NaN  2481.0  1739.0  2611.0  3798.0\n6             NaN  1737.0  1578.0  2607.0  3658.0\n7             NaN  2127.0  1827.0  2680.0  3668.0\n8             NaN  2044.0  1405.0  2903.0  2799.0\n9             NaN  1973.0   932.0  2504.0  3112.0\n10            NaN  2182.0  1441.0  2973.0  2512.0\n11            NaN  1588.0  1395.0  2892.0  2443.0\n12            NaN  1544.0  1339.0  2636.0  2813.0\n13            NaN  1579.0  1425.0  2122.0  2009.0\n14            NaN  2095.0  1502.0  1658.0  2707.0\n15            NaN  2400.0   635.0  2189.0  3596.0\n16            NaN  2290.0  1131.0  2867.0  1392.0\n17            NaN  1962.0  1070.0  3650.0  1551.0\n18            NaN  2017.0   937.0  1825.0  2068.0\n19            NaN  2838.0  1510.0  1661.0  1726.0\n20            NaN  2323.0  1390.0  2493.0  2156.0\n21            NaN  2016.0  1236.0   271.0  2343.0\n22            NaN  1318.0  1150.0     NaN  1465.0\n23            NaN  1364.0  1123.0     NaN  1313.0\n24            NaN  1047.0   958.0     NaN  1120.0\n25            NaN  1223.0   876.0     NaN   109.0\n26            NaN   785.0   674.0     NaN  1040.0\n27            NaN   741.0   669.0     NaN   699.0\n28            NaN   751.0   809.0     NaN   797.0\n29            NaN   733.0   768.0     NaN  1028.0\n30            NaN   638.0   571.0     NaN   632.0\n31            NaN   587.0   672.0     NaN   697.0\n32            NaN   621.0   502.0     NaN   702.0\n33            NaN   858.0   534.0     NaN   770.0\n34            NaN   775.0   674.0     NaN  1764.0\n35            NaN  1001.0  1031.0     NaN  1990.0\n36            NaN  1177.0  1334.0     NaN  1909.0\n37            NaN  1655.0  2321.0     NaN  2166.0\n38            NaN  1433.0  2112.0     NaN  2861.0\n39            NaN  1723.0  2254.0     NaN  1713.0\n40            NaN  2159.0  2016.0     NaN  2073.0\n41            NaN  1737.0  1677.0     NaN  1979.0\n42            NaN  2189.0  1605.0     NaN  2234.0\n43            NaN  1566.0  1747.0  1493.0  2588.0\n44            NaN  1967.0  2021.0  2197.0  2182.0\n45            NaN  1391.0  2012.0  3445.0  2553.0\n46            NaN  1504.0  2047.0  3509.0  2598.0\n47            NaN  1016.0  1874.0  4026.0  3150.0\n48            NaN  2098.0  2158.0  4352.0  2328.0\n49            NaN  5739.0  4016.0  3939.0  3449.0\n50            NaN  2752.0  2470.0  2250.0     NaN\n51            NaN   848.0  1535.0  1138.0     NaN\n52            NaN   259.0   183.0   275.0     NaN\n53          169.0     NaN     NaN     NaN     NaN",
      "text/html": "<div>\n<style scoped>\n    .dataframe tbody tr th:only-of-type {\n        vertical-align: middle;\n    }\n\n    .dataframe tbody tr th {\n        vertical-align: top;\n    }\n\n    .dataframe thead th {\n        text-align: right;\n    }\n</style>\n<table border=\"1\" class=\"dataframe\">\n  <thead>\n    <tr style=\"text-align: right;\">\n      <th>year</th>\n      <th>2015</th>\n      <th>2016</th>\n      <th>2017</th>\n      <th>2018</th>\n      <th>2019</th>\n    </tr>\n    <tr>\n      <th>weekofyear</th>\n      <th></th>\n      <th></th>\n      <th></th>\n      <th></th>\n      <th></th>\n    </tr>\n  </thead>\n  <tbody>\n    <tr>\n      <th>1</th>\n      <td>NaN</td>\n      <td>2483.0</td>\n      <td>816.0</td>\n      <td>552.0</td>\n      <td>602.0</td>\n    </tr>\n    <tr>\n      <th>2</th>\n      <td>NaN</td>\n      <td>2901.0</td>\n      <td>1198.0</td>\n      <td>2002.0</td>\n      <td>3472.0</td>\n    </tr>\n    <tr>\n      <th>3</th>\n      <td>NaN</td>\n      <td>2204.0</td>\n      <td>998.0</td>\n      <td>1878.0</td>\n      <td>3913.0</td>\n    </tr>\n    <tr>\n      <th>4</th>\n      <td>NaN</td>\n      <td>2551.0</td>\n      <td>1651.0</td>\n      <td>2044.0</td>\n      <td>3823.0</td>\n    </tr>\n    <tr>\n      <th>5</th>\n      <td>NaN</td>\n      <td>2481.0</td>\n      <td>1739.0</td>\n      <td>2611.0</td>\n      <td>3798.0</td>\n    </tr>\n    <tr>\n      <th>6</th>\n      <td>NaN</td>\n      <td>1737.0</td>\n      <td>1578.0</td>\n      <td>2607.0</td>\n      <td>3658.0</td>\n    </tr>\n    <tr>\n      <th>7</th>\n      <td>NaN</td>\n      <td>2127.0</td>\n      <td>1827.0</td>\n      <td>2680.0</td>\n      <td>3668.0</td>\n    </tr>\n    <tr>\n      <th>8</th>\n      <td>NaN</td>\n      <td>2044.0</td>\n      <td>1405.0</td>\n      <td>2903.0</td>\n      <td>2799.0</td>\n    </tr>\n    <tr>\n      <th>9</th>\n      <td>NaN</td>\n      <td>1973.0</td>\n      <td>932.0</td>\n      <td>2504.0</td>\n      <td>3112.0</td>\n    </tr>\n    <tr>\n      <th>10</th>\n      <td>NaN</td>\n      <td>2182.0</td>\n      <td>1441.0</td>\n      <td>2973.0</td>\n      <td>2512.0</td>\n    </tr>\n    <tr>\n      <th>11</th>\n      <td>NaN</td>\n      <td>1588.0</td>\n      <td>1395.0</td>\n      <td>2892.0</td>\n      <td>2443.0</td>\n    </tr>\n    <tr>\n      <th>12</th>\n      <td>NaN</td>\n      <td>1544.0</td>\n      <td>1339.0</td>\n      <td>2636.0</td>\n      <td>2813.0</td>\n    </tr>\n    <tr>\n      <th>13</th>\n      <td>NaN</td>\n      <td>1579.0</td>\n      <td>1425.0</td>\n      <td>2122.0</td>\n      <td>2009.0</td>\n    </tr>\n    <tr>\n      <th>14</th>\n      <td>NaN</td>\n      <td>2095.0</td>\n      <td>1502.0</td>\n      <td>1658.0</td>\n      <td>2707.0</td>\n    </tr>\n    <tr>\n      <th>15</th>\n      <td>NaN</td>\n      <td>2400.0</td>\n      <td>635.0</td>\n      <td>2189.0</td>\n      <td>3596.0</td>\n    </tr>\n    <tr>\n      <th>16</th>\n      <td>NaN</td>\n      <td>2290.0</td>\n      <td>1131.0</td>\n      <td>2867.0</td>\n      <td>1392.0</td>\n    </tr>\n    <tr>\n      <th>17</th>\n      <td>NaN</td>\n      <td>1962.0</td>\n      <td>1070.0</td>\n      <td>3650.0</td>\n      <td>1551.0</td>\n    </tr>\n    <tr>\n      <th>18</th>\n      <td>NaN</td>\n      <td>2017.0</td>\n      <td>937.0</td>\n      <td>1825.0</td>\n      <td>2068.0</td>\n    </tr>\n    <tr>\n      <th>19</th>\n      <td>NaN</td>\n      <td>2838.0</td>\n      <td>1510.0</td>\n      <td>1661.0</td>\n      <td>1726.0</td>\n    </tr>\n    <tr>\n      <th>20</th>\n      <td>NaN</td>\n      <td>2323.0</td>\n      <td>1390.0</td>\n      <td>2493.0</td>\n      <td>2156.0</td>\n    </tr>\n    <tr>\n      <th>21</th>\n      <td>NaN</td>\n      <td>2016.0</td>\n      <td>1236.0</td>\n      <td>271.0</td>\n      <td>2343.0</td>\n    </tr>\n    <tr>\n      <th>22</th>\n      <td>NaN</td>\n      <td>1318.0</td>\n      <td>1150.0</td>\n      <td>NaN</td>\n      <td>1465.0</td>\n    </tr>\n    <tr>\n      <th>23</th>\n      <td>NaN</td>\n      <td>1364.0</td>\n      <td>1123.0</td>\n      <td>NaN</td>\n      <td>1313.0</td>\n    </tr>\n    <tr>\n      <th>24</th>\n      <td>NaN</td>\n      <td>1047.0</td>\n      <td>958.0</td>\n      <td>NaN</td>\n      <td>1120.0</td>\n    </tr>\n    <tr>\n      <th>25</th>\n      <td>NaN</td>\n      <td>1223.0</td>\n      <td>876.0</td>\n      <td>NaN</td>\n      <td>109.0</td>\n    </tr>\n    <tr>\n      <th>26</th>\n      <td>NaN</td>\n      <td>785.0</td>\n      <td>674.0</td>\n      <td>NaN</td>\n      <td>1040.0</td>\n    </tr>\n    <tr>\n      <th>27</th>\n      <td>NaN</td>\n      <td>741.0</td>\n      <td>669.0</td>\n      <td>NaN</td>\n      <td>699.0</td>\n    </tr>\n    <tr>\n      <th>28</th>\n      <td>NaN</td>\n      <td>751.0</td>\n      <td>809.0</td>\n      <td>NaN</td>\n      <td>797.0</td>\n    </tr>\n    <tr>\n      <th>29</th>\n      <td>NaN</td>\n      <td>733.0</td>\n      <td>768.0</td>\n      <td>NaN</td>\n      <td>1028.0</td>\n    </tr>\n    <tr>\n      <th>30</th>\n      <td>NaN</td>\n      <td>638.0</td>\n      <td>571.0</td>\n      <td>NaN</td>\n      <td>632.0</td>\n    </tr>\n    <tr>\n      <th>31</th>\n      <td>NaN</td>\n      <td>587.0</td>\n      <td>672.0</td>\n      <td>NaN</td>\n      <td>697.0</td>\n    </tr>\n    <tr>\n      <th>32</th>\n      <td>NaN</td>\n      <td>621.0</td>\n      <td>502.0</td>\n      <td>NaN</td>\n      <td>702.0</td>\n    </tr>\n    <tr>\n      <th>33</th>\n      <td>NaN</td>\n      <td>858.0</td>\n      <td>534.0</td>\n      <td>NaN</td>\n      <td>770.0</td>\n    </tr>\n    <tr>\n      <th>34</th>\n      <td>NaN</td>\n      <td>775.0</td>\n      <td>674.0</td>\n      <td>NaN</td>\n      <td>1764.0</td>\n    </tr>\n    <tr>\n      <th>35</th>\n      <td>NaN</td>\n      <td>1001.0</td>\n      <td>1031.0</td>\n      <td>NaN</td>\n      <td>1990.0</td>\n    </tr>\n    <tr>\n      <th>36</th>\n      <td>NaN</td>\n      <td>1177.0</td>\n      <td>1334.0</td>\n      <td>NaN</td>\n      <td>1909.0</td>\n    </tr>\n    <tr>\n      <th>37</th>\n      <td>NaN</td>\n      <td>1655.0</td>\n      <td>2321.0</td>\n      <td>NaN</td>\n      <td>2166.0</td>\n    </tr>\n    <tr>\n      <th>38</th>\n      <td>NaN</td>\n      <td>1433.0</td>\n      <td>2112.0</td>\n      <td>NaN</td>\n      <td>2861.0</td>\n    </tr>\n    <tr>\n      <th>39</th>\n      <td>NaN</td>\n      <td>1723.0</td>\n      <td>2254.0</td>\n      <td>NaN</td>\n      <td>1713.0</td>\n    </tr>\n    <tr>\n      <th>40</th>\n      <td>NaN</td>\n      <td>2159.0</td>\n      <td>2016.0</td>\n      <td>NaN</td>\n      <td>2073.0</td>\n    </tr>\n    <tr>\n      <th>41</th>\n      <td>NaN</td>\n      <td>1737.0</td>\n      <td>1677.0</td>\n      <td>NaN</td>\n      <td>1979.0</td>\n    </tr>\n    <tr>\n      <th>42</th>\n      <td>NaN</td>\n      <td>2189.0</td>\n      <td>1605.0</td>\n      <td>NaN</td>\n      <td>2234.0</td>\n    </tr>\n    <tr>\n      <th>43</th>\n      <td>NaN</td>\n      <td>1566.0</td>\n      <td>1747.0</td>\n      <td>1493.0</td>\n      <td>2588.0</td>\n    </tr>\n    <tr>\n      <th>44</th>\n      <td>NaN</td>\n      <td>1967.0</td>\n      <td>2021.0</td>\n      <td>2197.0</td>\n      <td>2182.0</td>\n    </tr>\n    <tr>\n      <th>45</th>\n      <td>NaN</td>\n      <td>1391.0</td>\n      <td>2012.0</td>\n      <td>3445.0</td>\n      <td>2553.0</td>\n    </tr>\n    <tr>\n      <th>46</th>\n      <td>NaN</td>\n      <td>1504.0</td>\n      <td>2047.0</td>\n      <td>3509.0</td>\n      <td>2598.0</td>\n    </tr>\n    <tr>\n      <th>47</th>\n      <td>NaN</td>\n      <td>1016.0</td>\n      <td>1874.0</td>\n      <td>4026.0</td>\n      <td>3150.0</td>\n    </tr>\n    <tr>\n      <th>48</th>\n      <td>NaN</td>\n      <td>2098.0</td>\n      <td>2158.0</td>\n      <td>4352.0</td>\n      <td>2328.0</td>\n    </tr>\n    <tr>\n      <th>49</th>\n      <td>NaN</td>\n      <td>5739.0</td>\n      <td>4016.0</td>\n      <td>3939.0</td>\n      <td>3449.0</td>\n    </tr>\n    <tr>\n      <th>50</th>\n      <td>NaN</td>\n      <td>2752.0</td>\n      <td>2470.0</td>\n      <td>2250.0</td>\n      <td>NaN</td>\n    </tr>\n    <tr>\n      <th>51</th>\n      <td>NaN</td>\n      <td>848.0</td>\n      <td>1535.0</td>\n      <td>1138.0</td>\n      <td>NaN</td>\n    </tr>\n    <tr>\n      <th>52</th>\n      <td>NaN</td>\n      <td>259.0</td>\n      <td>183.0</td>\n      <td>275.0</td>\n      <td>NaN</td>\n    </tr>\n    <tr>\n      <th>53</th>\n      <td>169.0</td>\n      <td>NaN</td>\n      <td>NaN</td>\n      <td>NaN</td>\n      <td>NaN</td>\n    </tr>\n  </tbody>\n</table>\n</div>"
     },
     "metadata": {},
     "output_type": "execute_result",
     "execution_count": 22
    }
   ],
   "source": [
    "pcsv = csv.pivot(index='weekofyear', columns='year', values='all')\n",
    "pcsv"
   ],
   "metadata": {
    "collapsed": false,
    "pycharm": {
     "name": "#%% \n",
     "is_executing": false
    }
   }
  },
  {
   "cell_type": "code",
   "execution_count": 23,
   "outputs": [
    {
     "traceback": [
      "\u001b[0;31m---------------------------------------------------------------------------\u001b[0m",
      "\u001b[0;31mValueError\u001b[0m                                Traceback (most recent call last)",
      "\u001b[0;32m<ipython-input-23-fea9359897c8>\u001b[0m in \u001b[0;36m<module>\u001b[0;34m\u001b[0m\n\u001b[1;32m      8\u001b[0m \u001b[0;34m\u001b[0m\u001b[0m\n\u001b[1;32m      9\u001b[0m \u001b[0mfig\u001b[0m\u001b[0;34m,\u001b[0m \u001b[0max\u001b[0m \u001b[0;34m=\u001b[0m \u001b[0mplt\u001b[0m\u001b[0;34m.\u001b[0m\u001b[0msubplots\u001b[0m\u001b[0;34m(\u001b[0m\u001b[0;34m)\u001b[0m\u001b[0;34m\u001b[0m\u001b[0;34m\u001b[0m\u001b[0m\n\u001b[0;32m---> 10\u001b[0;31m \u001b[0mbar2016\u001b[0m \u001b[0;34m=\u001b[0m \u001b[0max\u001b[0m\u001b[0;34m.\u001b[0m\u001b[0mbar\u001b[0m\u001b[0;34m(\u001b[0m\u001b[0mx\u001b[0m \u001b[0;34m-\u001b[0m \u001b[0;36m2\u001b[0m\u001b[0;34m*\u001b[0m\u001b[0;34m(\u001b[0m\u001b[0mwidth\u001b[0m\u001b[0;34m/\u001b[0m\u001b[0;36m4\u001b[0m\u001b[0;34m)\u001b[0m\u001b[0;34m,\u001b[0m \u001b[0my2016\u001b[0m\u001b[0;34m,\u001b[0m \u001b[0mwidth\u001b[0m\u001b[0;34m,\u001b[0m \u001b[0mlabel\u001b[0m\u001b[0;34m=\u001b[0m\u001b[0;34m'2016'\u001b[0m\u001b[0;34m)\u001b[0m\u001b[0;34m\u001b[0m\u001b[0;34m\u001b[0m\u001b[0m\n\u001b[0m\u001b[1;32m     11\u001b[0m \u001b[0mbar2017\u001b[0m \u001b[0;34m=\u001b[0m \u001b[0max\u001b[0m\u001b[0;34m.\u001b[0m\u001b[0mbar\u001b[0m\u001b[0;34m(\u001b[0m\u001b[0mx\u001b[0m \u001b[0;34m-\u001b[0m \u001b[0;34m(\u001b[0m\u001b[0mwidth\u001b[0m\u001b[0;34m/\u001b[0m\u001b[0;36m4\u001b[0m\u001b[0;34m)\u001b[0m\u001b[0;34m,\u001b[0m \u001b[0my2017\u001b[0m\u001b[0;34m,\u001b[0m \u001b[0mwidth\u001b[0m\u001b[0;34m,\u001b[0m \u001b[0mlabel\u001b[0m\u001b[0;34m=\u001b[0m\u001b[0;34m'2017'\u001b[0m\u001b[0;34m)\u001b[0m\u001b[0;34m\u001b[0m\u001b[0;34m\u001b[0m\u001b[0m\n\u001b[1;32m     12\u001b[0m \u001b[0mbar2018\u001b[0m \u001b[0;34m=\u001b[0m \u001b[0max\u001b[0m\u001b[0;34m.\u001b[0m\u001b[0mbar\u001b[0m\u001b[0;34m(\u001b[0m\u001b[0mx\u001b[0m \u001b[0;34m+\u001b[0m \u001b[0;34m(\u001b[0m\u001b[0mwidth\u001b[0m\u001b[0;34m/\u001b[0m\u001b[0;36m4\u001b[0m\u001b[0;34m)\u001b[0m\u001b[0;34m,\u001b[0m \u001b[0my2018\u001b[0m\u001b[0;34m,\u001b[0m \u001b[0mwidth\u001b[0m\u001b[0;34m,\u001b[0m \u001b[0mlabel\u001b[0m\u001b[0;34m=\u001b[0m\u001b[0;34m'2018'\u001b[0m\u001b[0;34m)\u001b[0m\u001b[0;34m\u001b[0m\u001b[0;34m\u001b[0m\u001b[0m\n",
      "\u001b[0;32m/data/dev/anarobo/venv/lib/python3.7/site-packages/matplotlib/__init__.py\u001b[0m in \u001b[0;36minner\u001b[0;34m(ax, data, *args, **kwargs)\u001b[0m\n\u001b[1;32m   1597\u001b[0m     \u001b[0;32mdef\u001b[0m \u001b[0minner\u001b[0m\u001b[0;34m(\u001b[0m\u001b[0max\u001b[0m\u001b[0;34m,\u001b[0m \u001b[0;34m*\u001b[0m\u001b[0margs\u001b[0m\u001b[0;34m,\u001b[0m \u001b[0mdata\u001b[0m\u001b[0;34m=\u001b[0m\u001b[0;32mNone\u001b[0m\u001b[0;34m,\u001b[0m \u001b[0;34m**\u001b[0m\u001b[0mkwargs\u001b[0m\u001b[0;34m)\u001b[0m\u001b[0;34m:\u001b[0m\u001b[0;34m\u001b[0m\u001b[0;34m\u001b[0m\u001b[0m\n\u001b[1;32m   1598\u001b[0m         \u001b[0;32mif\u001b[0m \u001b[0mdata\u001b[0m \u001b[0;32mis\u001b[0m \u001b[0;32mNone\u001b[0m\u001b[0;34m:\u001b[0m\u001b[0;34m\u001b[0m\u001b[0;34m\u001b[0m\u001b[0m\n\u001b[0;32m-> 1599\u001b[0;31m             \u001b[0;32mreturn\u001b[0m \u001b[0mfunc\u001b[0m\u001b[0;34m(\u001b[0m\u001b[0max\u001b[0m\u001b[0;34m,\u001b[0m \u001b[0;34m*\u001b[0m\u001b[0mmap\u001b[0m\u001b[0;34m(\u001b[0m\u001b[0msanitize_sequence\u001b[0m\u001b[0;34m,\u001b[0m \u001b[0margs\u001b[0m\u001b[0;34m)\u001b[0m\u001b[0;34m,\u001b[0m \u001b[0;34m**\u001b[0m\u001b[0mkwargs\u001b[0m\u001b[0;34m)\u001b[0m\u001b[0;34m\u001b[0m\u001b[0;34m\u001b[0m\u001b[0m\n\u001b[0m\u001b[1;32m   1600\u001b[0m \u001b[0;34m\u001b[0m\u001b[0m\n\u001b[1;32m   1601\u001b[0m         \u001b[0mbound\u001b[0m \u001b[0;34m=\u001b[0m \u001b[0mnew_sig\u001b[0m\u001b[0;34m.\u001b[0m\u001b[0mbind\u001b[0m\u001b[0;34m(\u001b[0m\u001b[0max\u001b[0m\u001b[0;34m,\u001b[0m \u001b[0;34m*\u001b[0m\u001b[0margs\u001b[0m\u001b[0;34m,\u001b[0m \u001b[0;34m**\u001b[0m\u001b[0mkwargs\u001b[0m\u001b[0;34m)\u001b[0m\u001b[0;34m\u001b[0m\u001b[0;34m\u001b[0m\u001b[0m\n",
      "\u001b[0;32m/data/dev/anarobo/venv/lib/python3.7/site-packages/matplotlib/axes/_axes.py\u001b[0m in \u001b[0;36mbar\u001b[0;34m(self, x, height, width, bottom, align, **kwargs)\u001b[0m\n\u001b[1;32m   2372\u001b[0m         x, height, width, y, linewidth = np.broadcast_arrays(\n\u001b[1;32m   2373\u001b[0m             \u001b[0;31m# Make args iterable too.\u001b[0m\u001b[0;34m\u001b[0m\u001b[0;34m\u001b[0m\u001b[0;34m\u001b[0m\u001b[0m\n\u001b[0;32m-> 2374\u001b[0;31m             np.atleast_1d(x), height, width, y, linewidth)\n\u001b[0m\u001b[1;32m   2375\u001b[0m \u001b[0;34m\u001b[0m\u001b[0m\n\u001b[1;32m   2376\u001b[0m         \u001b[0;31m# Now that units have been converted, set the tick locations.\u001b[0m\u001b[0;34m\u001b[0m\u001b[0;34m\u001b[0m\u001b[0;34m\u001b[0m\u001b[0m\n",
      "\u001b[0;32m<__array_function__ internals>\u001b[0m in \u001b[0;36mbroadcast_arrays\u001b[0;34m(*args, **kwargs)\u001b[0m\n",
      "\u001b[0;32m/data/dev/anarobo/venv/lib/python3.7/site-packages/numpy/lib/stride_tricks.py\u001b[0m in \u001b[0;36mbroadcast_arrays\u001b[0;34m(*args, **kwargs)\u001b[0m\n\u001b[1;32m    262\u001b[0m     \u001b[0margs\u001b[0m \u001b[0;34m=\u001b[0m \u001b[0;34m[\u001b[0m\u001b[0mnp\u001b[0m\u001b[0;34m.\u001b[0m\u001b[0marray\u001b[0m\u001b[0;34m(\u001b[0m\u001b[0m_m\u001b[0m\u001b[0;34m,\u001b[0m \u001b[0mcopy\u001b[0m\u001b[0;34m=\u001b[0m\u001b[0;32mFalse\u001b[0m\u001b[0;34m,\u001b[0m \u001b[0msubok\u001b[0m\u001b[0;34m=\u001b[0m\u001b[0msubok\u001b[0m\u001b[0;34m)\u001b[0m \u001b[0;32mfor\u001b[0m \u001b[0m_m\u001b[0m \u001b[0;32min\u001b[0m \u001b[0margs\u001b[0m\u001b[0;34m]\u001b[0m\u001b[0;34m\u001b[0m\u001b[0;34m\u001b[0m\u001b[0m\n\u001b[1;32m    263\u001b[0m \u001b[0;34m\u001b[0m\u001b[0m\n\u001b[0;32m--> 264\u001b[0;31m     \u001b[0mshape\u001b[0m \u001b[0;34m=\u001b[0m \u001b[0m_broadcast_shape\u001b[0m\u001b[0;34m(\u001b[0m\u001b[0;34m*\u001b[0m\u001b[0margs\u001b[0m\u001b[0;34m)\u001b[0m\u001b[0;34m\u001b[0m\u001b[0;34m\u001b[0m\u001b[0m\n\u001b[0m\u001b[1;32m    265\u001b[0m \u001b[0;34m\u001b[0m\u001b[0m\n\u001b[1;32m    266\u001b[0m     \u001b[0;32mif\u001b[0m \u001b[0mall\u001b[0m\u001b[0;34m(\u001b[0m\u001b[0marray\u001b[0m\u001b[0;34m.\u001b[0m\u001b[0mshape\u001b[0m \u001b[0;34m==\u001b[0m \u001b[0mshape\u001b[0m \u001b[0;32mfor\u001b[0m \u001b[0marray\u001b[0m \u001b[0;32min\u001b[0m \u001b[0margs\u001b[0m\u001b[0;34m)\u001b[0m\u001b[0;34m:\u001b[0m\u001b[0;34m\u001b[0m\u001b[0;34m\u001b[0m\u001b[0m\n",
      "\u001b[0;32m/data/dev/anarobo/venv/lib/python3.7/site-packages/numpy/lib/stride_tricks.py\u001b[0m in \u001b[0;36m_broadcast_shape\u001b[0;34m(*args)\u001b[0m\n\u001b[1;32m    189\u001b[0m     \u001b[0;31m# use the old-iterator because np.nditer does not handle size 0 arrays\u001b[0m\u001b[0;34m\u001b[0m\u001b[0;34m\u001b[0m\u001b[0;34m\u001b[0m\u001b[0m\n\u001b[1;32m    190\u001b[0m     \u001b[0;31m# consistently\u001b[0m\u001b[0;34m\u001b[0m\u001b[0;34m\u001b[0m\u001b[0;34m\u001b[0m\u001b[0m\n\u001b[0;32m--> 191\u001b[0;31m     \u001b[0mb\u001b[0m \u001b[0;34m=\u001b[0m \u001b[0mnp\u001b[0m\u001b[0;34m.\u001b[0m\u001b[0mbroadcast\u001b[0m\u001b[0;34m(\u001b[0m\u001b[0;34m*\u001b[0m\u001b[0margs\u001b[0m\u001b[0;34m[\u001b[0m\u001b[0;34m:\u001b[0m\u001b[0;36m32\u001b[0m\u001b[0;34m]\u001b[0m\u001b[0;34m)\u001b[0m\u001b[0;34m\u001b[0m\u001b[0;34m\u001b[0m\u001b[0m\n\u001b[0m\u001b[1;32m    192\u001b[0m     \u001b[0;31m# unfortunately, it cannot handle 32 or more arguments directly\u001b[0m\u001b[0;34m\u001b[0m\u001b[0;34m\u001b[0m\u001b[0;34m\u001b[0m\u001b[0m\n\u001b[1;32m    193\u001b[0m     \u001b[0;32mfor\u001b[0m \u001b[0mpos\u001b[0m \u001b[0;32min\u001b[0m \u001b[0mrange\u001b[0m\u001b[0;34m(\u001b[0m\u001b[0;36m32\u001b[0m\u001b[0;34m,\u001b[0m \u001b[0mlen\u001b[0m\u001b[0;34m(\u001b[0m\u001b[0margs\u001b[0m\u001b[0;34m)\u001b[0m\u001b[0;34m,\u001b[0m \u001b[0;36m31\u001b[0m\u001b[0;34m)\u001b[0m\u001b[0;34m:\u001b[0m\u001b[0;34m\u001b[0m\u001b[0;34m\u001b[0m\u001b[0m\n",
      "\u001b[0;31mValueError\u001b[0m: shape mismatch: objects cannot be broadcast to a single shape"
     ],
     "ename": "ValueError",
     "evalue": "shape mismatch: objects cannot be broadcast to a single shape",
     "output_type": "error"
    },
    {
     "data": {
      "text/plain": "<Figure size 432x288 with 1 Axes>",
      "image/png": "[encoded data removed]"
     },
     "metadata": {
      "needs_background": "light"
     },
     "output_type": "display_data"
    }
   ],
   "source": [
    "y2016 = pcsv[2016].tolist()\n",
    "y2017 = pcsv[2017].tolist()\n",
    "y2018 = pcsv[2018].tolist()\n",
    "y2019 = pcsv[2019].tolist()\n",
    "\n",
    "x = np.arange(4)\n",
    "width = 0.35\n",
    "\n",
    "fig, ax = plt.subplots()\n",
    "bar2016 = ax.bar(x - 2*(width/4), y2016, width, label='2016')\n",
    "bar2017 = ax.bar(x - (width/4), y2017, width, label='2017')\n",
    "bar2018 = ax.bar(x + (width/4), y2018, width, label='2018')\n",
    "bar2019 = ax.bar(x + (2*width/4), y2019, width, label='2019')\n",
    "\n",
    "plt.show\n",
    "p1 = y2019.plot(kind='bar')"
   ],
   "metadata": {
    "collapsed": false,
    "pycharm": {
     "name": "#%%\n",
     "is_executing": false
    }
   }
  },
  {
   "cell_type": "markdown",
   "source": [
    "## plotting"
   ],
   "metadata": {
    "collapsed": false,
    "pycharm": {
     "name": "#%% md\n"
    }
   }
  },
  {
   "cell_type": "code",
   "execution_count": null,
   "outputs": [],
   "source": [
    "csv.plot(kind='scatter', x='year', y='teacher')"
   ],
   "metadata": {
    "collapsed": false,
    "pycharm": {
     "name": "#%%\n",
     "is_executing": false
    }
   }
  },
  {
   "cell_type": "code",
   "source": [
    "# pcsv.plot(lind='line', x='year', y='all')"
   ],
   "metadata": {
    "collapsed": false,
    "pycharm": {
     "name": "#%%\n",
     "is_executing": false
    }
   },
   "execution_count": null,
   "outputs": []
  },
  {
   "cell_type": "markdown",
   "source": [],
   "metadata": {
    "collapsed": false,
    "pycharm": {
     "name": "#%% md\n"
    }
   }
  }
 ],
 "metadata": {
  "kernelspec": {
   "display_name": "Python 3",
   "language": "python",
   "name": "python3"
  },
  "language_info": {
   "codemirror_mode": {
    "name": "ipython",
    "version": 2
   },
   "file_extension": ".py",
   "mimetype": "text/x-python",
   "name": "python",
   "nbconvert_exporter": "python",
   "pygments_lexer": "ipython2",
   "version": "2.7.6"
  },
  "pycharm": {
   "stem_cell": {
    "cell_type": "raw",
    "source": [],
    "metadata": {
     "collapsed": false
    }
   }
  }
 },
 "nbformat": 4,
 "nbformat_minor": 0
}